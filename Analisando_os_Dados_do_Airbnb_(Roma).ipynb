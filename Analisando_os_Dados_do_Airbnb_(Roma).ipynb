{
  "nbformat": 4,
  "nbformat_minor": 0,
  "metadata": {
    "colab": {
      "provenance": [],
      "include_colab_link": true
    },
    "kernelspec": {
      "name": "python3",
      "display_name": "Python 3"
    }
  },
  "cells": [
    {
      "cell_type": "markdown",
      "metadata": {
        "id": "view-in-github",
        "colab_type": "text"
      },
      "source": [
        "<a href=\"https://colab.research.google.com/github/mfdsouza/portfolio/blob/main/Analisando_os_Dados_do_Airbnb_(Roma).ipynb\" target=\"_parent\"><img src=\"https://colab.research.google.com/assets/colab-badge.svg\" alt=\"Open In Colab\"/></a>"
      ]
    },
    {
      "cell_type": "markdown",
      "metadata": {
        "id": "kLI0gJtzDGuQ"
      },
      "source": [
        "<img alt=\"Colaboratory logo\" width=\"15%\" src=\"https://raw.githubusercontent.com/carlosfab/escola-data-science/master/img/novo_logo_bg_claro.png\">\n",
        "\n",
        "#### **Data Science na Prática 3.0**\n",
        "*by [sigmoidal.ai](https://sigmoidal.ai)*\n",
        "\n",
        "---\n",
        "\n",
        "# Análise dos Dados do Airbnb - *Roma*\n",
        "\n",
        "O [Airbnb](https://www.airbnb.com.br/) já é considerado como sendo a **maior empresa hoteleira da atualidade**. Ah, o detalhe é que ele **não possui nenhum hotel**!\n",
        "\n",
        "Conectando pessoas que querem viajar (e se hospedar) com anfitriões que querem alugar seus imóveis de maneira prática, o Airbnb fornece uma plataforma inovadora para tornar essa hospedagem alternativa.\n",
        "\n",
        "No final de 2018, a Startup fundada 10 anos atrás, já havia **hospedado mais de 300 milhões** de pessoas ao redor de todo o mundo, desafiando as redes hoteleiras tradicionais.\n",
        "\n",
        "Uma das iniciativas do Airbnb é disponibilizar dados do site, para algumas das principais cidades do mundo. Por meio do portal [Inside Airbnb](http://insideairbnb.com/get-the-data.html), é possível baixar uma grande quantidade de dados para desenvolver projetos e soluções de *Data Science*.\n",
        "\n",
        "<center><img alt=\"Analisando Airbnb\" width=\"10%\" src=\"https://www.area360.com.au/wp-content/uploads/2017/09/airbnb-logo.jpg\"></center>\n",
        "\n",
        "**Neste *notebook*, iremos analisar os dados referentes à cidade Roma, e ver quais insights podem ser extraídos a partir de dados brutos.**"
      ]
    },
    {
      "cell_type": "markdown",
      "metadata": {
        "id": "0zxQHhIUDF_2"
      },
      "source": [
        "## Obtenção dos Dados\n"
      ]
    },
    {
      "cell_type": "code",
      "metadata": {
        "id": "Vhp2wMPgJ6zX"
      },
      "source": [
        "# importar os pacotes necessarios\n",
        "import pandas as pd\n",
        "import matplotlib.pyplot as plt\n",
        "import seaborn as sns\n",
        "\n",
        "%matplotlib inline"
      ],
      "execution_count": 4,
      "outputs": []
    },
    {
      "cell_type": "code",
      "metadata": {
        "id": "tUmoAT8DLQ5T"
      },
      "source": [
        "# importar o arquivo listings.csv para um DataFrame\n",
        "DATA = \"http://data.insideairbnb.com/italy/lazio/rome/2022-12-13/visualisations/listings.csv\"\n",
        "df = pd.read_csv(DATA)"
      ],
      "execution_count": 2,
      "outputs": []
    },
    {
      "cell_type": "markdown",
      "metadata": {
        "id": "qb5By2nIMS6m"
      },
      "source": [
        "## Análise dos Dados\n"
      ]
    },
    {
      "cell_type": "markdown",
      "metadata": {
        "id": "RYgvuebKNg8-"
      },
      "source": [
        "**Dicionário das variáveis**\n",
        "\n",
        "* id - identificador do imóvel\n",
        "* name - nome da propriedade\n",
        "* host_id\t- id do proprietario\n",
        "* host_name\t- nome do proprietario\n",
        "* neighbourhood_group\t - nao identificável pelos dados - talvez macro-região\n",
        "* neighbourhood\t- bairro\n",
        "* latitude\t- latitude da propriedade\n",
        "* longitude\t- longitude da propriedade\n",
        "* room_type\t- tipo de propriedade\n",
        "* price\t- preço do aluguel\n",
        "* minimum_nights\t- numero minimo de noites para reserva\n",
        "* number_of_reviews\t- numero de feedbacks\n",
        "* last_review\t- data da última avaliação\n",
        "* reviews_per_month\t- número de avaliações por periodo\n",
        "* calculated_host_listings_count - numero de imoveis do mesmo proprietario\n",
        "* availability_365 - dias de disponibilidade no ano\t\n",
        "* number_of_reviews_ltm\t- numero de avaliações do ultimo mes\n",
        "* license - nao identificável pelos dados \n",
        "\n",
        "Antes de iniciar qualquer análise, vamos verificar a cara do nosso *dataset*, analisando as 5 primeiras entradas."
      ]
    },
    {
      "cell_type": "code",
      "metadata": {
        "id": "2iS_dae7YQtO",
        "colab": {
          "base_uri": "https://localhost:8080/",
          "height": 617
        },
        "outputId": "140c5fa1-5c5d-4453-ef91-a4ce6a4d569d"
      },
      "source": [
        "# mostrar as 5 primeiras entradas\n",
        "df.head()"
      ],
      "execution_count": 5,
      "outputs": [
        {
          "output_type": "execute_result",
          "data": {
            "text/plain": [
              "      id                                           name  host_id host_name  \\\n",
              "0   2737               Elif's room in cozy, clean flat.     3047      Elif   \n",
              "1   3079      Cozy apartment  (2-4)with Colisseum  view     3504     Laura   \n",
              "2  11834               Rome \"Charming Boschetto Studio\"    44552    Serena   \n",
              "3  12398            Casa Donatello - Home far from Home    11756       Gea   \n",
              "4  19965  DI FRONTE AI MUSEI VATICANI 2 CAMERE DA LETTO    75450      Sasa   \n",
              "\n",
              "   neighbourhood_group         neighbourhood  latitude  longitude  \\\n",
              "0                  NaN     VIII Appia Antica  41.87136   12.48215   \n",
              "1                  NaN      I Centro Storico  41.89500   12.49117   \n",
              "2                  NaN      I Centro Storico  41.89650   12.49211   \n",
              "3                  NaN  II Parioli/Nomentano  41.92582   12.46928   \n",
              "4                  NaN      I Centro Storico  41.90730   12.45349   \n",
              "\n",
              "         room_type  price  minimum_nights  number_of_reviews last_review  \\\n",
              "0     Private room     45               7                  7  2015-05-28   \n",
              "1  Entire home/apt     90              20                 21  2022-04-30   \n",
              "2  Entire home/apt    100               2                173  2022-11-15   \n",
              "3  Entire home/apt     81               1                 44  2022-08-10   \n",
              "4  Entire home/apt     96               3                 95  2022-11-01   \n",
              "\n",
              "   reviews_per_month  calculated_host_listings_count  availability_365  \\\n",
              "0               0.07                               6               365   \n",
              "1               0.14                               5               284   \n",
              "2               1.22                               1               349   \n",
              "3               0.30                               1               294   \n",
              "4               0.71                               9                43   \n",
              "\n",
              "   number_of_reviews_ltm license  \n",
              "0                      0     NaN  \n",
              "1                      2     NaN  \n",
              "2                     31     NaN  \n",
              "3                      1     NaN  \n",
              "4                     33     NaN  "
            ],
            "text/html": [
              "\n",
              "  <div id=\"df-65074141-50d8-4ec4-afa3-82a4af008680\">\n",
              "    <div class=\"colab-df-container\">\n",
              "      <div>\n",
              "<style scoped>\n",
              "    .dataframe tbody tr th:only-of-type {\n",
              "        vertical-align: middle;\n",
              "    }\n",
              "\n",
              "    .dataframe tbody tr th {\n",
              "        vertical-align: top;\n",
              "    }\n",
              "\n",
              "    .dataframe thead th {\n",
              "        text-align: right;\n",
              "    }\n",
              "</style>\n",
              "<table border=\"1\" class=\"dataframe\">\n",
              "  <thead>\n",
              "    <tr style=\"text-align: right;\">\n",
              "      <th></th>\n",
              "      <th>id</th>\n",
              "      <th>name</th>\n",
              "      <th>host_id</th>\n",
              "      <th>host_name</th>\n",
              "      <th>neighbourhood_group</th>\n",
              "      <th>neighbourhood</th>\n",
              "      <th>latitude</th>\n",
              "      <th>longitude</th>\n",
              "      <th>room_type</th>\n",
              "      <th>price</th>\n",
              "      <th>minimum_nights</th>\n",
              "      <th>number_of_reviews</th>\n",
              "      <th>last_review</th>\n",
              "      <th>reviews_per_month</th>\n",
              "      <th>calculated_host_listings_count</th>\n",
              "      <th>availability_365</th>\n",
              "      <th>number_of_reviews_ltm</th>\n",
              "      <th>license</th>\n",
              "    </tr>\n",
              "  </thead>\n",
              "  <tbody>\n",
              "    <tr>\n",
              "      <th>0</th>\n",
              "      <td>2737</td>\n",
              "      <td>Elif's room in cozy, clean flat.</td>\n",
              "      <td>3047</td>\n",
              "      <td>Elif</td>\n",
              "      <td>NaN</td>\n",
              "      <td>VIII Appia Antica</td>\n",
              "      <td>41.87136</td>\n",
              "      <td>12.48215</td>\n",
              "      <td>Private room</td>\n",
              "      <td>45</td>\n",
              "      <td>7</td>\n",
              "      <td>7</td>\n",
              "      <td>2015-05-28</td>\n",
              "      <td>0.07</td>\n",
              "      <td>6</td>\n",
              "      <td>365</td>\n",
              "      <td>0</td>\n",
              "      <td>NaN</td>\n",
              "    </tr>\n",
              "    <tr>\n",
              "      <th>1</th>\n",
              "      <td>3079</td>\n",
              "      <td>Cozy apartment  (2-4)with Colisseum  view</td>\n",
              "      <td>3504</td>\n",
              "      <td>Laura</td>\n",
              "      <td>NaN</td>\n",
              "      <td>I Centro Storico</td>\n",
              "      <td>41.89500</td>\n",
              "      <td>12.49117</td>\n",
              "      <td>Entire home/apt</td>\n",
              "      <td>90</td>\n",
              "      <td>20</td>\n",
              "      <td>21</td>\n",
              "      <td>2022-04-30</td>\n",
              "      <td>0.14</td>\n",
              "      <td>5</td>\n",
              "      <td>284</td>\n",
              "      <td>2</td>\n",
              "      <td>NaN</td>\n",
              "    </tr>\n",
              "    <tr>\n",
              "      <th>2</th>\n",
              "      <td>11834</td>\n",
              "      <td>Rome \"Charming Boschetto Studio\"</td>\n",
              "      <td>44552</td>\n",
              "      <td>Serena</td>\n",
              "      <td>NaN</td>\n",
              "      <td>I Centro Storico</td>\n",
              "      <td>41.89650</td>\n",
              "      <td>12.49211</td>\n",
              "      <td>Entire home/apt</td>\n",
              "      <td>100</td>\n",
              "      <td>2</td>\n",
              "      <td>173</td>\n",
              "      <td>2022-11-15</td>\n",
              "      <td>1.22</td>\n",
              "      <td>1</td>\n",
              "      <td>349</td>\n",
              "      <td>31</td>\n",
              "      <td>NaN</td>\n",
              "    </tr>\n",
              "    <tr>\n",
              "      <th>3</th>\n",
              "      <td>12398</td>\n",
              "      <td>Casa Donatello - Home far from Home</td>\n",
              "      <td>11756</td>\n",
              "      <td>Gea</td>\n",
              "      <td>NaN</td>\n",
              "      <td>II Parioli/Nomentano</td>\n",
              "      <td>41.92582</td>\n",
              "      <td>12.46928</td>\n",
              "      <td>Entire home/apt</td>\n",
              "      <td>81</td>\n",
              "      <td>1</td>\n",
              "      <td>44</td>\n",
              "      <td>2022-08-10</td>\n",
              "      <td>0.30</td>\n",
              "      <td>1</td>\n",
              "      <td>294</td>\n",
              "      <td>1</td>\n",
              "      <td>NaN</td>\n",
              "    </tr>\n",
              "    <tr>\n",
              "      <th>4</th>\n",
              "      <td>19965</td>\n",
              "      <td>DI FRONTE AI MUSEI VATICANI 2 CAMERE DA LETTO</td>\n",
              "      <td>75450</td>\n",
              "      <td>Sasa</td>\n",
              "      <td>NaN</td>\n",
              "      <td>I Centro Storico</td>\n",
              "      <td>41.90730</td>\n",
              "      <td>12.45349</td>\n",
              "      <td>Entire home/apt</td>\n",
              "      <td>96</td>\n",
              "      <td>3</td>\n",
              "      <td>95</td>\n",
              "      <td>2022-11-01</td>\n",
              "      <td>0.71</td>\n",
              "      <td>9</td>\n",
              "      <td>43</td>\n",
              "      <td>33</td>\n",
              "      <td>NaN</td>\n",
              "    </tr>\n",
              "  </tbody>\n",
              "</table>\n",
              "</div>\n",
              "      <button class=\"colab-df-convert\" onclick=\"convertToInteractive('df-65074141-50d8-4ec4-afa3-82a4af008680')\"\n",
              "              title=\"Convert this dataframe to an interactive table.\"\n",
              "              style=\"display:none;\">\n",
              "        \n",
              "  <svg xmlns=\"http://www.w3.org/2000/svg\" height=\"24px\"viewBox=\"0 0 24 24\"\n",
              "       width=\"24px\">\n",
              "    <path d=\"M0 0h24v24H0V0z\" fill=\"none\"/>\n",
              "    <path d=\"M18.56 5.44l.94 2.06.94-2.06 2.06-.94-2.06-.94-.94-2.06-.94 2.06-2.06.94zm-11 1L8.5 8.5l.94-2.06 2.06-.94-2.06-.94L8.5 2.5l-.94 2.06-2.06.94zm10 10l.94 2.06.94-2.06 2.06-.94-2.06-.94-.94-2.06-.94 2.06-2.06.94z\"/><path d=\"M17.41 7.96l-1.37-1.37c-.4-.4-.92-.59-1.43-.59-.52 0-1.04.2-1.43.59L10.3 9.45l-7.72 7.72c-.78.78-.78 2.05 0 2.83L4 21.41c.39.39.9.59 1.41.59.51 0 1.02-.2 1.41-.59l7.78-7.78 2.81-2.81c.8-.78.8-2.07 0-2.86zM5.41 20L4 18.59l7.72-7.72 1.47 1.35L5.41 20z\"/>\n",
              "  </svg>\n",
              "      </button>\n",
              "      \n",
              "  <style>\n",
              "    .colab-df-container {\n",
              "      display:flex;\n",
              "      flex-wrap:wrap;\n",
              "      gap: 12px;\n",
              "    }\n",
              "\n",
              "    .colab-df-convert {\n",
              "      background-color: #E8F0FE;\n",
              "      border: none;\n",
              "      border-radius: 50%;\n",
              "      cursor: pointer;\n",
              "      display: none;\n",
              "      fill: #1967D2;\n",
              "      height: 32px;\n",
              "      padding: 0 0 0 0;\n",
              "      width: 32px;\n",
              "    }\n",
              "\n",
              "    .colab-df-convert:hover {\n",
              "      background-color: #E2EBFA;\n",
              "      box-shadow: 0px 1px 2px rgba(60, 64, 67, 0.3), 0px 1px 3px 1px rgba(60, 64, 67, 0.15);\n",
              "      fill: #174EA6;\n",
              "    }\n",
              "\n",
              "    [theme=dark] .colab-df-convert {\n",
              "      background-color: #3B4455;\n",
              "      fill: #D2E3FC;\n",
              "    }\n",
              "\n",
              "    [theme=dark] .colab-df-convert:hover {\n",
              "      background-color: #434B5C;\n",
              "      box-shadow: 0px 1px 3px 1px rgba(0, 0, 0, 0.15);\n",
              "      filter: drop-shadow(0px 1px 2px rgba(0, 0, 0, 0.3));\n",
              "      fill: #FFFFFF;\n",
              "    }\n",
              "  </style>\n",
              "\n",
              "      <script>\n",
              "        const buttonEl =\n",
              "          document.querySelector('#df-65074141-50d8-4ec4-afa3-82a4af008680 button.colab-df-convert');\n",
              "        buttonEl.style.display =\n",
              "          google.colab.kernel.accessAllowed ? 'block' : 'none';\n",
              "\n",
              "        async function convertToInteractive(key) {\n",
              "          const element = document.querySelector('#df-65074141-50d8-4ec4-afa3-82a4af008680');\n",
              "          const dataTable =\n",
              "            await google.colab.kernel.invokeFunction('convertToInteractive',\n",
              "                                                     [key], {});\n",
              "          if (!dataTable) return;\n",
              "\n",
              "          const docLinkHtml = 'Like what you see? Visit the ' +\n",
              "            '<a target=\"_blank\" href=https://colab.research.google.com/notebooks/data_table.ipynb>data table notebook</a>'\n",
              "            + ' to learn more about interactive tables.';\n",
              "          element.innerHTML = '';\n",
              "          dataTable['output_type'] = 'display_data';\n",
              "          await google.colab.output.renderOutput(dataTable, element);\n",
              "          const docLink = document.createElement('div');\n",
              "          docLink.innerHTML = docLinkHtml;\n",
              "          element.appendChild(docLink);\n",
              "        }\n",
              "      </script>\n",
              "    </div>\n",
              "  </div>\n",
              "  "
            ]
          },
          "metadata": {},
          "execution_count": 5
        }
      ]
    },
    {
      "cell_type": "markdown",
      "metadata": {
        "id": "6-B_qtEaYEd-"
      },
      "source": [
        "### **Q1. Quantos atributos (variáveis) e quantas entradas o nosso conjunto de dados possui? Quais os tipos das variáveis?**"
      ]
    },
    {
      "cell_type": "markdown",
      "source": [
        "R: Foram encontradas 24383 entradas e cada registro possui 18 variáveis. As variáveis são dos seguintes tipos: int, float e string."
      ],
      "metadata": {
        "id": "cdKpuFiICHvc"
      }
    },
    {
      "cell_type": "code",
      "metadata": {
        "id": "TFRK0tniLV-G",
        "colab": {
          "base_uri": "https://localhost:8080/",
          "height": 382
        },
        "outputId": "5a3f1b34-7a75-4a5b-80b1-50a18a4a5857"
      },
      "source": [
        "# identificar o volume de dados do DataFrame\n",
        "print(\"Entradas:\\t {}\".format(df.shape[0]))\n",
        "print(\"Variáveis:\\t {}\".format(df.shape[1]))\n",
        "\n",
        "# verificar as 5 primeiras entradas do dataset\n",
        "display(df.dtypes)"
      ],
      "execution_count": 6,
      "outputs": [
        {
          "output_type": "stream",
          "name": "stdout",
          "text": [
            "Entradas:\t 24383\n",
            "Variáveis:\t 18\n"
          ]
        },
        {
          "output_type": "display_data",
          "data": {
            "text/plain": [
              "id                                  int64\n",
              "name                               object\n",
              "host_id                             int64\n",
              "host_name                          object\n",
              "neighbourhood_group               float64\n",
              "neighbourhood                      object\n",
              "latitude                          float64\n",
              "longitude                         float64\n",
              "room_type                          object\n",
              "price                               int64\n",
              "minimum_nights                      int64\n",
              "number_of_reviews                   int64\n",
              "last_review                        object\n",
              "reviews_per_month                 float64\n",
              "calculated_host_listings_count      int64\n",
              "availability_365                    int64\n",
              "number_of_reviews_ltm               int64\n",
              "license                            object\n",
              "dtype: object"
            ]
          },
          "metadata": {}
        }
      ]
    },
    {
      "cell_type": "markdown",
      "metadata": {
        "id": "yz1urSUGW9iE"
      },
      "source": [
        "### **Q2. Qual a porcentagem de valores ausentes no *dataset*?**"
      ]
    },
    {
      "cell_type": "markdown",
      "source": [
        "R: \n",
        "* É possível ver que a coluna neighbourhood_group possui 100% dos seus valores faltantes.\n",
        "* A variável license tem aproximadamente 84% das linhas nulas.\n",
        "* As variáveis reviews_per_month e last_review possuem valores nulos em quase 15% das linhas.\n",
        "* As variáveis name e host_name têm aproximadamente 0,01% dos valores nulos."
      ],
      "metadata": {
        "id": "4_ZNYvKNDVBB"
      }
    },
    {
      "cell_type": "code",
      "metadata": {
        "id": "plk2FjbCXOqP",
        "colab": {
          "base_uri": "https://localhost:8080/"
        },
        "outputId": "aa551be7-d52f-4175-8d97-5965c11b2f82"
      },
      "source": [
        "# ordenar em ordem decrescente as variáveis por seus valores ausentes\n",
        "(df.isnull().sum() / df.shape[0]).sort_values(ascending=False)"
      ],
      "execution_count": 8,
      "outputs": [
        {
          "output_type": "execute_result",
          "data": {
            "text/plain": [
              "neighbourhood_group               1.000000\n",
              "license                           0.833737\n",
              "reviews_per_month                 0.142722\n",
              "last_review                       0.142722\n",
              "name                              0.000123\n",
              "host_name                         0.000041\n",
              "number_of_reviews                 0.000000\n",
              "number_of_reviews_ltm             0.000000\n",
              "availability_365                  0.000000\n",
              "calculated_host_listings_count    0.000000\n",
              "id                                0.000000\n",
              "minimum_nights                    0.000000\n",
              "room_type                         0.000000\n",
              "longitude                         0.000000\n",
              "latitude                          0.000000\n",
              "neighbourhood                     0.000000\n",
              "host_id                           0.000000\n",
              "price                             0.000000\n",
              "dtype: float64"
            ]
          },
          "metadata": {},
          "execution_count": 8
        }
      ]
    },
    {
      "cell_type": "markdown",
      "metadata": {
        "id": "iHXvvHIxaoNc"
      },
      "source": [
        "### **Q3. Qual o tipo de distribuição das variáveis?** "
      ]
    },
    {
      "cell_type": "markdown",
      "source": [
        "R: Um histograma será plotado para identificar a distribuição das variáveis."
      ],
      "metadata": {
        "id": "lK6h2AdwDyoS"
      }
    },
    {
      "cell_type": "code",
      "metadata": {
        "id": "q2wWSfeRbmBo",
        "colab": {
          "base_uri": "https://localhost:8080/",
          "height": 833
        },
        "outputId": "1312e1ab-7596-45bb-b1b6-52b9b5a1eb8a"
      },
      "source": [
        "# plotar o histograma das variáveis numéricas\n",
        "df.hist(bins=15, figsize=(15,10))"
      ],
      "execution_count": 9,
      "outputs": [
        {
          "output_type": "execute_result",
          "data": {
            "text/plain": [
              "array([[<AxesSubplot:title={'center':'id'}>,\n",
              "        <AxesSubplot:title={'center':'host_id'}>,\n",
              "        <AxesSubplot:title={'center':'neighbourhood_group'}>],\n",
              "       [<AxesSubplot:title={'center':'latitude'}>,\n",
              "        <AxesSubplot:title={'center':'longitude'}>,\n",
              "        <AxesSubplot:title={'center':'price'}>],\n",
              "       [<AxesSubplot:title={'center':'minimum_nights'}>,\n",
              "        <AxesSubplot:title={'center':'number_of_reviews'}>,\n",
              "        <AxesSubplot:title={'center':'reviews_per_month'}>],\n",
              "       [<AxesSubplot:title={'center':'calculated_host_listings_count'}>,\n",
              "        <AxesSubplot:title={'center':'availability_365'}>,\n",
              "        <AxesSubplot:title={'center':'number_of_reviews_ltm'}>]],\n",
              "      dtype=object)"
            ]
          },
          "metadata": {},
          "execution_count": 9
        },
        {
          "output_type": "display_data",
          "data": {
            "text/plain": [
              "<Figure size 1080x720 with 12 Axes>"
            ],
            "image/png": "[encoded data removed]"
          },
          "metadata": {
            "needs_background": "light"
          }
        }
      ]
    },
    {
      "cell_type": "markdown",
      "source": [
        "\n",
        "\n",
        "### **Q4. Há *outliers* presentes?**"
      ],
      "metadata": {
        "id": "tFa696ZqEtp_"
      }
    },
    {
      "cell_type": "markdown",
      "source": [
        "Pela distribuição do histograma, é possível verificar indícios da presença de *outliers*. Olhe por exemplo as variáveis `price`, `minimum_nights` e `calculated_host_listings_count`.\n",
        "\n",
        "Os valores não seguem uma distruição, e distorcem toda a representação gráfica. Para confirmar, há duas maneiras rápidas que auxiliam a detecção de *outliers*. São elas:\n",
        "\n",
        "* Resumo estatístico por meio do método `describe()`\n",
        "* Plotar `boxplots` para a variável."
      ],
      "metadata": {
        "id": "v2ukk2bWFJqJ"
      }
    },
    {
      "cell_type": "code",
      "source": [
        "# ver o resumo estatístico das variáveis numéricas\n",
        "df[['price', 'minimum_nights', 'number_of_reviews', 'reviews_per_month',\n",
        "    'calculated_host_listings_count', 'availability_365']].describe()"
      ],
      "metadata": {
        "colab": {
          "base_uri": "https://localhost:8080/",
          "height": 300
        },
        "id": "nWmCOWzaFNWU",
        "outputId": "af7929d5-c042-41d3-ef60-f9a1ab5e1a25"
      },
      "execution_count": 11,
      "outputs": [
        {
          "output_type": "execute_result",
          "data": {
            "text/plain": [
              "              price  minimum_nights  number_of_reviews  reviews_per_month  \\\n",
              "count  24383.000000    24383.000000       24383.000000       20903.000000   \n",
              "mean     235.622893        3.534143          52.690481           1.501749   \n",
              "std     2261.046815       18.789018          83.175115           1.536501   \n",
              "min        0.000000        1.000000           0.000000           0.010000   \n",
              "25%       65.000000        1.000000           3.000000           0.330000   \n",
              "50%       92.000000        2.000000          18.000000           1.000000   \n",
              "75%      140.000000        3.000000          66.000000           2.220000   \n",
              "max    96160.000000      999.000000        1270.000000          34.830000   \n",
              "\n",
              "       calculated_host_listings_count  availability_365  \n",
              "count                    24383.000000      24383.000000  \n",
              "mean                         8.566583        201.703359  \n",
              "std                         25.505180        129.258852  \n",
              "min                          1.000000          0.000000  \n",
              "25%                          1.000000         79.000000  \n",
              "50%                          3.000000        226.000000  \n",
              "75%                          6.000000        327.000000  \n",
              "max                        221.000000        365.000000  "
            ],
            "text/html": [
              "\n",
              "  <div id=\"df-ff9fa45e-7eb8-4165-b3c5-d02b6a39a49d\">\n",
              "    <div class=\"colab-df-container\">\n",
              "      <div>\n",
              "<style scoped>\n",
              "    .dataframe tbody tr th:only-of-type {\n",
              "        vertical-align: middle;\n",
              "    }\n",
              "\n",
              "    .dataframe tbody tr th {\n",
              "        vertical-align: top;\n",
              "    }\n",
              "\n",
              "    .dataframe thead th {\n",
              "        text-align: right;\n",
              "    }\n",
              "</style>\n",
              "<table border=\"1\" class=\"dataframe\">\n",
              "  <thead>\n",
              "    <tr style=\"text-align: right;\">\n",
              "      <th></th>\n",
              "      <th>price</th>\n",
              "      <th>minimum_nights</th>\n",
              "      <th>number_of_reviews</th>\n",
              "      <th>reviews_per_month</th>\n",
              "      <th>calculated_host_listings_count</th>\n",
              "      <th>availability_365</th>\n",
              "    </tr>\n",
              "  </thead>\n",
              "  <tbody>\n",
              "    <tr>\n",
              "      <th>count</th>\n",
              "      <td>24383.000000</td>\n",
              "      <td>24383.000000</td>\n",
              "      <td>24383.000000</td>\n",
              "      <td>20903.000000</td>\n",
              "      <td>24383.000000</td>\n",
              "      <td>24383.000000</td>\n",
              "    </tr>\n",
              "    <tr>\n",
              "      <th>mean</th>\n",
              "      <td>235.622893</td>\n",
              "      <td>3.534143</td>\n",
              "      <td>52.690481</td>\n",
              "      <td>1.501749</td>\n",
              "      <td>8.566583</td>\n",
              "      <td>201.703359</td>\n",
              "    </tr>\n",
              "    <tr>\n",
              "      <th>std</th>\n",
              "      <td>2261.046815</td>\n",
              "      <td>18.789018</td>\n",
              "      <td>83.175115</td>\n",
              "      <td>1.536501</td>\n",
              "      <td>25.505180</td>\n",
              "      <td>129.258852</td>\n",
              "    </tr>\n",
              "    <tr>\n",
              "      <th>min</th>\n",
              "      <td>0.000000</td>\n",
              "      <td>1.000000</td>\n",
              "      <td>0.000000</td>\n",
              "      <td>0.010000</td>\n",
              "      <td>1.000000</td>\n",
              "      <td>0.000000</td>\n",
              "    </tr>\n",
              "    <tr>\n",
              "      <th>25%</th>\n",
              "      <td>65.000000</td>\n",
              "      <td>1.000000</td>\n",
              "      <td>3.000000</td>\n",
              "      <td>0.330000</td>\n",
              "      <td>1.000000</td>\n",
              "      <td>79.000000</td>\n",
              "    </tr>\n",
              "    <tr>\n",
              "      <th>50%</th>\n",
              "      <td>92.000000</td>\n",
              "      <td>2.000000</td>\n",
              "      <td>18.000000</td>\n",
              "      <td>1.000000</td>\n",
              "      <td>3.000000</td>\n",
              "      <td>226.000000</td>\n",
              "    </tr>\n",
              "    <tr>\n",
              "      <th>75%</th>\n",
              "      <td>140.000000</td>\n",
              "      <td>3.000000</td>\n",
              "      <td>66.000000</td>\n",
              "      <td>2.220000</td>\n",
              "      <td>6.000000</td>\n",
              "      <td>327.000000</td>\n",
              "    </tr>\n",
              "    <tr>\n",
              "      <th>max</th>\n",
              "      <td>96160.000000</td>\n",
              "      <td>999.000000</td>\n",
              "      <td>1270.000000</td>\n",
              "      <td>34.830000</td>\n",
              "      <td>221.000000</td>\n",
              "      <td>365.000000</td>\n",
              "    </tr>\n",
              "  </tbody>\n",
              "</table>\n",
              "</div>\n",
              "      <button class=\"colab-df-convert\" onclick=\"convertToInteractive('df-ff9fa45e-7eb8-4165-b3c5-d02b6a39a49d')\"\n",
              "              title=\"Convert this dataframe to an interactive table.\"\n",
              "              style=\"display:none;\">\n",
              "        \n",
              "  <svg xmlns=\"http://www.w3.org/2000/svg\" height=\"24px\"viewBox=\"0 0 24 24\"\n",
              "       width=\"24px\">\n",
              "    <path d=\"M0 0h24v24H0V0z\" fill=\"none\"/>\n",
              "    <path d=\"M18.56 5.44l.94 2.06.94-2.06 2.06-.94-2.06-.94-.94-2.06-.94 2.06-2.06.94zm-11 1L8.5 8.5l.94-2.06 2.06-.94-2.06-.94L8.5 2.5l-.94 2.06-2.06.94zm10 10l.94 2.06.94-2.06 2.06-.94-2.06-.94-.94-2.06-.94 2.06-2.06.94z\"/><path d=\"M17.41 7.96l-1.37-1.37c-.4-.4-.92-.59-1.43-.59-.52 0-1.04.2-1.43.59L10.3 9.45l-7.72 7.72c-.78.78-.78 2.05 0 2.83L4 21.41c.39.39.9.59 1.41.59.51 0 1.02-.2 1.41-.59l7.78-7.78 2.81-2.81c.8-.78.8-2.07 0-2.86zM5.41 20L4 18.59l7.72-7.72 1.47 1.35L5.41 20z\"/>\n",
              "  </svg>\n",
              "      </button>\n",
              "      \n",
              "  <style>\n",
              "    .colab-df-container {\n",
              "      display:flex;\n",
              "      flex-wrap:wrap;\n",
              "      gap: 12px;\n",
              "    }\n",
              "\n",
              "    .colab-df-convert {\n",
              "      background-color: #E8F0FE;\n",
              "      border: none;\n",
              "      border-radius: 50%;\n",
              "      cursor: pointer;\n",
              "      display: none;\n",
              "      fill: #1967D2;\n",
              "      height: 32px;\n",
              "      padding: 0 0 0 0;\n",
              "      width: 32px;\n",
              "    }\n",
              "\n",
              "    .colab-df-convert:hover {\n",
              "      background-color: #E2EBFA;\n",
              "      box-shadow: 0px 1px 2px rgba(60, 64, 67, 0.3), 0px 1px 3px 1px rgba(60, 64, 67, 0.15);\n",
              "      fill: #174EA6;\n",
              "    }\n",
              "\n",
              "    [theme=dark] .colab-df-convert {\n",
              "      background-color: #3B4455;\n",
              "      fill: #D2E3FC;\n",
              "    }\n",
              "\n",
              "    [theme=dark] .colab-df-convert:hover {\n",
              "      background-color: #434B5C;\n",
              "      box-shadow: 0px 1px 3px 1px rgba(0, 0, 0, 0.15);\n",
              "      filter: drop-shadow(0px 1px 2px rgba(0, 0, 0, 0.3));\n",
              "      fill: #FFFFFF;\n",
              "    }\n",
              "  </style>\n",
              "\n",
              "      <script>\n",
              "        const buttonEl =\n",
              "          document.querySelector('#df-ff9fa45e-7eb8-4165-b3c5-d02b6a39a49d button.colab-df-convert');\n",
              "        buttonEl.style.display =\n",
              "          google.colab.kernel.accessAllowed ? 'block' : 'none';\n",
              "\n",
              "        async function convertToInteractive(key) {\n",
              "          const element = document.querySelector('#df-ff9fa45e-7eb8-4165-b3c5-d02b6a39a49d');\n",
              "          const dataTable =\n",
              "            await google.colab.kernel.invokeFunction('convertToInteractive',\n",
              "                                                     [key], {});\n",
              "          if (!dataTable) return;\n",
              "\n",
              "          const docLinkHtml = 'Like what you see? Visit the ' +\n",
              "            '<a target=\"_blank\" href=https://colab.research.google.com/notebooks/data_table.ipynb>data table notebook</a>'\n",
              "            + ' to learn more about interactive tables.';\n",
              "          element.innerHTML = '';\n",
              "          dataTable['output_type'] = 'display_data';\n",
              "          await google.colab.output.renderOutput(dataTable, element);\n",
              "          const docLink = document.createElement('div');\n",
              "          docLink.innerHTML = docLinkHtml;\n",
              "          element.appendChild(docLink);\n",
              "        }\n",
              "      </script>\n",
              "    </div>\n",
              "  </div>\n",
              "  "
            ]
          },
          "metadata": {},
          "execution_count": 11
        }
      ]
    },
    {
      "cell_type": "markdown",
      "source": [
        "Olhando o resumo estatístico acima, podemos confirmar algumas hipóteses como:\n",
        "\n",
        "* A variável `price` possui 75% do valor abaixo de 140, porém seu valor máximo é 96160.\n",
        "* A quantidade mínima de noites (`minimum_nights`) está acima de 365 dias no ano.\n",
        "\n",
        "#### Boxplot para minimum_nights\n"
      ],
      "metadata": {
        "id": "SUb9_yzQFXP9"
      }
    },
    {
      "cell_type": "code",
      "source": [
        "# minimum_nights\n",
        "df.minimum_nights.plot(kind='box', vert=False, figsize=(15, 3))\n",
        "plt.show()\n",
        "\n",
        "# ver quantidade de valores acima de 30 dias para minimum_nights\n",
        "print(\"minimum_nights: valores acima de 30:\")\n",
        "print(\"{} entradas\".format(len(df[df.minimum_nights > 30])))\n",
        "print(\"{:.4f}%\".format((len(df[df.minimum_nights > 30]) / df.shape[0])*100))"
      ],
      "metadata": {
        "colab": {
          "base_uri": "https://localhost:8080/",
          "height": 263
        },
        "id": "u5C8RWdDForM",
        "outputId": "9d620396-a968-4127-a1d2-a6b91ab90ca2"
      },
      "execution_count": 12,
      "outputs": [
        {
          "output_type": "display_data",
          "data": {
            "text/plain": [
              "<Figure size 1080x216 with 1 Axes>"
            ],
            "image/png": "[encoded data removed]"
          },
          "metadata": {
            "needs_background": "light"
          }
        },
        {
          "output_type": "stream",
          "name": "stdout",
          "text": [
            "minimum_nights: valores acima de 30:\n",
            "172 entradas\n",
            "0.7054%\n"
          ]
        }
      ]
    },
    {
      "cell_type": "markdown",
      "source": [
        "#### Boxplot para price"
      ],
      "metadata": {
        "id": "BzkmyemCF3h8"
      }
    },
    {
      "cell_type": "code",
      "source": [
        "# price\n",
        "df.price.plot(kind='box', vert=False, figsize=(15, 3),)\n",
        "plt.show()\n",
        "\n",
        "# ver quantidade de valores acima de 1500 para price\n",
        "print(\"\\nprice: valores acima de 1500\")\n",
        "print(\"{} entradas\".format(len(df[df.price > 1500])))\n",
        "print(\"{:.4f}%\".format((len(df[df.price > 1500]) / df.shape[0])*100))\n",
        "\n",
        "# df.price.plot(kind='box', vert=False, xlim=(0,1300), figsize=(15,3));"
      ],
      "metadata": {
        "colab": {
          "base_uri": "https://localhost:8080/",
          "height": 280
        },
        "id": "7JUHHiGhF4hq",
        "outputId": "5dd0dc6c-e09f-4e35-e3e4-98be93f79eb4"
      },
      "execution_count": 13,
      "outputs": [
        {
          "output_type": "display_data",
          "data": {
            "text/plain": [
              "<Figure size 1080x216 with 1 Axes>"
            ],
            "image/png": "[encoded data removed]"
          },
          "metadata": {
            "needs_background": "light"
          }
        },
        {
          "output_type": "stream",
          "name": "stdout",
          "text": [
            "\n",
            "price: valores acima de 1500\n",
            "216 entradas\n",
            "0.8859%\n"
          ]
        }
      ]
    },
    {
      "cell_type": "markdown",
      "source": [
        "#### Histogramas sem *outliers*\n",
        "\n",
        "Já que identificamos *outliers* nas variáveis `price` e `minimum_nights`, vamos agora limpar o *DataFrame* delas e plotar novamente o histograma."
      ],
      "metadata": {
        "id": "gvITa1-EGKqL"
      }
    },
    {
      "cell_type": "code",
      "source": [
        "# remover os *outliers* em um novo DataFrame\n",
        "df_clean = df.copy()\n",
        "df_clean.drop(df_clean[df_clean.price > 1500].index, axis=0, inplace=True)\n",
        "df_clean.drop(df_clean[df_clean.minimum_nights > 30].index, axis=0, inplace=True)\n",
        "\n",
        "# remover `neighbourhood_group`, pois está vazio\n",
        "df_clean.drop('neighbourhood_group', axis=1, inplace=True)\n",
        "\n",
        "# plotar o histograma para as variáveis numéricas\n",
        "df_clean.hist(bins=15, figsize=(15,10));"
      ],
      "metadata": {
        "colab": {
          "base_uri": "https://localhost:8080/",
          "height": 607
        },
        "id": "wv4Ks4RSGONe",
        "outputId": "47ed9375-0031-4d4e-9fde-0ca1035a7d7e"
      },
      "execution_count": 14,
      "outputs": [
        {
          "output_type": "display_data",
          "data": {
            "text/plain": [
              "<Figure size 1080x720 with 12 Axes>"
            ],
            "image/png": "[encoded data removed]"
          },
          "metadata": {
            "needs_background": "light"
          }
        }
      ]
    },
    {
      "cell_type": "markdown",
      "source": [
        "## **Q5. Qual a correlação existente entre as variáveis**\n",
        "\n",
        "Correlação significa que existe uma relação entre duas coisas. No nosso contexto, estamos buscando relação ou semelhança entre duas variáveis.\n",
        "\n",
        "Essa relação pode ser medida, e é função do coeficiente de correlação estabelecer qual a intensidade dela. Para identificar as correlações existentes entre as variáveis de interesse, vou:\n",
        "\n",
        "* Criar uma matriz de correlação\n",
        "* Gerar um *heatmap* a partir dessa matriz, usando a biblioteca `seaborn`"
      ],
      "metadata": {
        "id": "NM1Z1_EHE3dp"
      }
    },
    {
      "cell_type": "code",
      "source": [
        "# criar uma matriz de correlação\n",
        "corr = df_clean[['price', 'minimum_nights', 'number_of_reviews', 'reviews_per_month',\n",
        "    'calculated_host_listings_count', 'availability_365']].corr()\n",
        "\n",
        "display(corr)"
      ],
      "metadata": {
        "colab": {
          "base_uri": "https://localhost:8080/",
          "height": 302
        },
        "id": "Pautpf_CGZDC",
        "outputId": "d6096eb4-860a-4f40-87b9-cf86f380d5a1"
      },
      "execution_count": 15,
      "outputs": [
        {
          "output_type": "display_data",
          "data": {
            "text/plain": [
              "                                   price  minimum_nights  number_of_reviews  \\\n",
              "price                           1.000000       -0.025144          -0.089105   \n",
              "minimum_nights                 -0.025144        1.000000          -0.036885   \n",
              "number_of_reviews              -0.089105       -0.036885           1.000000   \n",
              "reviews_per_month              -0.099673       -0.109514           0.535004   \n",
              "calculated_host_listings_count  0.153671       -0.055558          -0.048638   \n",
              "availability_365                0.061169       -0.065878           0.006358   \n",
              "\n",
              "                                reviews_per_month  \\\n",
              "price                                   -0.099673   \n",
              "minimum_nights                          -0.109514   \n",
              "number_of_reviews                        0.535004   \n",
              "reviews_per_month                        1.000000   \n",
              "calculated_host_listings_count          -0.004085   \n",
              "availability_365                         0.096290   \n",
              "\n",
              "                                calculated_host_listings_count  \\\n",
              "price                                                 0.153671   \n",
              "minimum_nights                                       -0.055558   \n",
              "number_of_reviews                                    -0.048638   \n",
              "reviews_per_month                                    -0.004085   \n",
              "calculated_host_listings_count                        1.000000   \n",
              "availability_365                                     -0.064505   \n",
              "\n",
              "                                availability_365  \n",
              "price                                   0.061169  \n",
              "minimum_nights                         -0.065878  \n",
              "number_of_reviews                       0.006358  \n",
              "reviews_per_month                       0.096290  \n",
              "calculated_host_listings_count         -0.064505  \n",
              "availability_365                        1.000000  "
            ],
            "text/html": [
              "\n",
              "  <div id=\"df-4400ddd3-73c8-477d-8b75-527865911eaf\">\n",
              "    <div class=\"colab-df-container\">\n",
              "      <div>\n",
              "<style scoped>\n",
              "    .dataframe tbody tr th:only-of-type {\n",
              "        vertical-align: middle;\n",
              "    }\n",
              "\n",
              "    .dataframe tbody tr th {\n",
              "        vertical-align: top;\n",
              "    }\n",
              "\n",
              "    .dataframe thead th {\n",
              "        text-align: right;\n",
              "    }\n",
              "</style>\n",
              "<table border=\"1\" class=\"dataframe\">\n",
              "  <thead>\n",
              "    <tr style=\"text-align: right;\">\n",
              "      <th></th>\n",
              "      <th>price</th>\n",
              "      <th>minimum_nights</th>\n",
              "      <th>number_of_reviews</th>\n",
              "      <th>reviews_per_month</th>\n",
              "      <th>calculated_host_listings_count</th>\n",
              "      <th>availability_365</th>\n",
              "    </tr>\n",
              "  </thead>\n",
              "  <tbody>\n",
              "    <tr>\n",
              "      <th>price</th>\n",
              "      <td>1.000000</td>\n",
              "      <td>-0.025144</td>\n",
              "      <td>-0.089105</td>\n",
              "      <td>-0.099673</td>\n",
              "      <td>0.153671</td>\n",
              "      <td>0.061169</td>\n",
              "    </tr>\n",
              "    <tr>\n",
              "      <th>minimum_nights</th>\n",
              "      <td>-0.025144</td>\n",
              "      <td>1.000000</td>\n",
              "      <td>-0.036885</td>\n",
              "      <td>-0.109514</td>\n",
              "      <td>-0.055558</td>\n",
              "      <td>-0.065878</td>\n",
              "    </tr>\n",
              "    <tr>\n",
              "      <th>number_of_reviews</th>\n",
              "      <td>-0.089105</td>\n",
              "      <td>-0.036885</td>\n",
              "      <td>1.000000</td>\n",
              "      <td>0.535004</td>\n",
              "      <td>-0.048638</td>\n",
              "      <td>0.006358</td>\n",
              "    </tr>\n",
              "    <tr>\n",
              "      <th>reviews_per_month</th>\n",
              "      <td>-0.099673</td>\n",
              "      <td>-0.109514</td>\n",
              "      <td>0.535004</td>\n",
              "      <td>1.000000</td>\n",
              "      <td>-0.004085</td>\n",
              "      <td>0.096290</td>\n",
              "    </tr>\n",
              "    <tr>\n",
              "      <th>calculated_host_listings_count</th>\n",
              "      <td>0.153671</td>\n",
              "      <td>-0.055558</td>\n",
              "      <td>-0.048638</td>\n",
              "      <td>-0.004085</td>\n",
              "      <td>1.000000</td>\n",
              "      <td>-0.064505</td>\n",
              "    </tr>\n",
              "    <tr>\n",
              "      <th>availability_365</th>\n",
              "      <td>0.061169</td>\n",
              "      <td>-0.065878</td>\n",
              "      <td>0.006358</td>\n",
              "      <td>0.096290</td>\n",
              "      <td>-0.064505</td>\n",
              "      <td>1.000000</td>\n",
              "    </tr>\n",
              "  </tbody>\n",
              "</table>\n",
              "</div>\n",
              "      <button class=\"colab-df-convert\" onclick=\"convertToInteractive('df-4400ddd3-73c8-477d-8b75-527865911eaf')\"\n",
              "              title=\"Convert this dataframe to an interactive table.\"\n",
              "              style=\"display:none;\">\n",
              "        \n",
              "  <svg xmlns=\"http://www.w3.org/2000/svg\" height=\"24px\"viewBox=\"0 0 24 24\"\n",
              "       width=\"24px\">\n",
              "    <path d=\"M0 0h24v24H0V0z\" fill=\"none\"/>\n",
              "    <path d=\"M18.56 5.44l.94 2.06.94-2.06 2.06-.94-2.06-.94-.94-2.06-.94 2.06-2.06.94zm-11 1L8.5 8.5l.94-2.06 2.06-.94-2.06-.94L8.5 2.5l-.94 2.06-2.06.94zm10 10l.94 2.06.94-2.06 2.06-.94-2.06-.94-.94-2.06-.94 2.06-2.06.94z\"/><path d=\"M17.41 7.96l-1.37-1.37c-.4-.4-.92-.59-1.43-.59-.52 0-1.04.2-1.43.59L10.3 9.45l-7.72 7.72c-.78.78-.78 2.05 0 2.83L4 21.41c.39.39.9.59 1.41.59.51 0 1.02-.2 1.41-.59l7.78-7.78 2.81-2.81c.8-.78.8-2.07 0-2.86zM5.41 20L4 18.59l7.72-7.72 1.47 1.35L5.41 20z\"/>\n",
              "  </svg>\n",
              "      </button>\n",
              "      \n",
              "  <style>\n",
              "    .colab-df-container {\n",
              "      display:flex;\n",
              "      flex-wrap:wrap;\n",
              "      gap: 12px;\n",
              "    }\n",
              "\n",
              "    .colab-df-convert {\n",
              "      background-color: #E8F0FE;\n",
              "      border: none;\n",
              "      border-radius: 50%;\n",
              "      cursor: pointer;\n",
              "      display: none;\n",
              "      fill: #1967D2;\n",
              "      height: 32px;\n",
              "      padding: 0 0 0 0;\n",
              "      width: 32px;\n",
              "    }\n",
              "\n",
              "    .colab-df-convert:hover {\n",
              "      background-color: #E2EBFA;\n",
              "      box-shadow: 0px 1px 2px rgba(60, 64, 67, 0.3), 0px 1px 3px 1px rgba(60, 64, 67, 0.15);\n",
              "      fill: #174EA6;\n",
              "    }\n",
              "\n",
              "    [theme=dark] .colab-df-convert {\n",
              "      background-color: #3B4455;\n",
              "      fill: #D2E3FC;\n",
              "    }\n",
              "\n",
              "    [theme=dark] .colab-df-convert:hover {\n",
              "      background-color: #434B5C;\n",
              "      box-shadow: 0px 1px 3px 1px rgba(0, 0, 0, 0.15);\n",
              "      filter: drop-shadow(0px 1px 2px rgba(0, 0, 0, 0.3));\n",
              "      fill: #FFFFFF;\n",
              "    }\n",
              "  </style>\n",
              "\n",
              "      <script>\n",
              "        const buttonEl =\n",
              "          document.querySelector('#df-4400ddd3-73c8-477d-8b75-527865911eaf button.colab-df-convert');\n",
              "        buttonEl.style.display =\n",
              "          google.colab.kernel.accessAllowed ? 'block' : 'none';\n",
              "\n",
              "        async function convertToInteractive(key) {\n",
              "          const element = document.querySelector('#df-4400ddd3-73c8-477d-8b75-527865911eaf');\n",
              "          const dataTable =\n",
              "            await google.colab.kernel.invokeFunction('convertToInteractive',\n",
              "                                                     [key], {});\n",
              "          if (!dataTable) return;\n",
              "\n",
              "          const docLinkHtml = 'Like what you see? Visit the ' +\n",
              "            '<a target=\"_blank\" href=https://colab.research.google.com/notebooks/data_table.ipynb>data table notebook</a>'\n",
              "            + ' to learn more about interactive tables.';\n",
              "          element.innerHTML = '';\n",
              "          dataTable['output_type'] = 'display_data';\n",
              "          await google.colab.output.renderOutput(dataTable, element);\n",
              "          const docLink = document.createElement('div');\n",
              "          docLink.innerHTML = docLinkHtml;\n",
              "          element.appendChild(docLink);\n",
              "        }\n",
              "      </script>\n",
              "    </div>\n",
              "  </div>\n",
              "  "
            ]
          },
          "metadata": {}
        }
      ]
    },
    {
      "cell_type": "code",
      "source": [
        "sns.heatmap(corr, cmap='RdBu', fmt='.2f', square=True, linecolor='white', annot=True);"
      ],
      "metadata": {
        "colab": {
          "base_uri": "https://localhost:8080/",
          "height": 411
        },
        "id": "Vbv26mwOGiZ9",
        "outputId": "3aeb9d69-ae66-4f27-fada-0fabe59d428b"
      },
      "execution_count": 16,
      "outputs": [
        {
          "output_type": "display_data",
          "data": {
            "text/plain": [
              "<Figure size 432x288 with 2 Axes>"
            ],
            "image/png": "[encoded data removed]"
          },
          "metadata": {
            "needs_background": "light"
          }
        }
      ]
    },
    {
      "cell_type": "markdown",
      "metadata": {
        "id": "7x4aw1j5wNmn"
      },
      "source": [
        "### **Q6. Qual a média dos preços de aluguel?**"
      ]
    },
    {
      "cell_type": "markdown",
      "source": [
        "R: A média de preço dos imóveis AirBnB em Roma é de aproximadamente 236."
      ],
      "metadata": {
        "id": "jPIJw_MnHIc_"
      }
    },
    {
      "cell_type": "code",
      "metadata": {
        "id": "ff-8gUahLk-C",
        "colab": {
          "base_uri": "https://localhost:8080/"
        },
        "outputId": "f4f2457e-de14-40bb-fc61-623f69b1b8df"
      },
      "source": [
        "# ver a média da coluna `price``\n",
        "df.price.mean()"
      ],
      "execution_count": 17,
      "outputs": [
        {
          "output_type": "execute_result",
          "data": {
            "text/plain": [
              "235.62289299922077"
            ]
          },
          "metadata": {},
          "execution_count": 17
        }
      ]
    },
    {
      "cell_type": "markdown",
      "metadata": {
        "id": "7b6RMWpuHKN-"
      },
      "source": [
        "### **Q7. Qual o tipo de imóvel mais alugado no Airbnb?**"
      ]
    },
    {
      "cell_type": "markdown",
      "source": [
        "R: Apês inteiros (68% procurados)."
      ],
      "metadata": {
        "id": "1UzJEh2IHoxl"
      }
    },
    {
      "cell_type": "code",
      "metadata": {
        "id": "ueLPNWvPHgfB",
        "colab": {
          "base_uri": "https://localhost:8080/"
        },
        "outputId": "d9e8451d-4999-4bae-a621-52468cb8c1c0"
      },
      "source": [
        "# mostrar a quantidade de cada tipo de imóvel disponível\n",
        "df_clean.room_type.value_counts()"
      ],
      "execution_count": 18,
      "outputs": [
        {
          "output_type": "execute_result",
          "data": {
            "text/plain": [
              "Entire home/apt    16307\n",
              "Private room        6860\n",
              "Hotel room           697\n",
              "Shared room          134\n",
              "Name: room_type, dtype: int64"
            ]
          },
          "metadata": {},
          "execution_count": 18
        }
      ]
    },
    {
      "cell_type": "code",
      "metadata": {
        "id": "EvwoO-XAHhIm",
        "colab": {
          "base_uri": "https://localhost:8080/"
        },
        "outputId": "ad0f82b0-29a8-4136-9977-9111f29915b4"
      },
      "source": [
        "# mostrar a porcentagem de cada tipo de imóvel disponível\n",
        "df_clean.room_type.value_counts() / df_clean.shape[0]"
      ],
      "execution_count": 19,
      "outputs": [
        {
          "output_type": "execute_result",
          "data": {
            "text/plain": [
              "Entire home/apt    0.679515\n",
              "Private room       0.285857\n",
              "Hotel room         0.029044\n",
              "Shared room        0.005584\n",
              "Name: room_type, dtype: float64"
            ]
          },
          "metadata": {},
          "execution_count": 19
        }
      ]
    },
    {
      "cell_type": "markdown",
      "metadata": {
        "id": "MFa5NbnLJMcd"
      },
      "source": [
        "### **Q8. Qual a localidade mais cara de Roma?**\n",
        "\n"
      ]
    },
    {
      "cell_type": "markdown",
      "source": [
        "R: A localidade mais cara de Roma é I Centro Storico (150 por noite)."
      ],
      "metadata": {
        "id": "_Vd9D02rH4nf"
      }
    },
    {
      "cell_type": "code",
      "metadata": {
        "id": "MD_xa143JZpi",
        "colab": {
          "base_uri": "https://localhost:8080/"
        },
        "outputId": "d403ad7e-3581-43b9-c8fa-2b67dfac5088"
      },
      "source": [
        "# ver preços por bairros, na média\n",
        "df_clean.groupby(['neighbourhood']).price.mean().sort_values(ascending=False)[:10]"
      ],
      "execution_count": 20,
      "outputs": [
        {
          "output_type": "execute_result",
          "data": {
            "text/plain": [
              "neighbourhood\n",
              "I Centro Storico              149.073729\n",
              "IX Eur                        129.919298\n",
              "XV Cassia/Flaminia            122.738095\n",
              "XIII Aurelia                  116.713272\n",
              "II Parioli/Nomentano          110.700495\n",
              "XIV Monte Mario               103.223404\n",
              "III Monte Sacro                98.964865\n",
              "XII Monte Verde                96.414211\n",
              "VIII Appia Antica              96.150621\n",
              "VII San Giovanni/Cinecittà     92.583787\n",
              "Name: price, dtype: float64"
            ]
          },
          "metadata": {},
          "execution_count": 20
        }
      ]
    },
    {
      "cell_type": "markdown",
      "source": [
        "Quantidade de imóveis de I Centro Storixo"
      ],
      "metadata": {
        "id": "xjRfsJU7IUiv"
      }
    },
    {
      "cell_type": "code",
      "source": [
        "# ver quantidade de imóveis no I Centro Storico\n",
        "print(df_clean[df_clean.neighbourhood == \"I Centro Storico\"].shape)"
      ],
      "metadata": {
        "colab": {
          "base_uri": "https://localhost:8080/"
        },
        "id": "7NatdWkWIZeV",
        "outputId": "d4782c24-c122-41fd-9da2-bbad574d5856"
      },
      "execution_count": 22,
      "outputs": [
        {
          "output_type": "stream",
          "name": "stdout",
          "text": [
            "(13509, 17)\n"
          ]
        }
      ]
    },
    {
      "cell_type": "code",
      "source": [
        "# ver as 3 entradas do I Centro Storico\n",
        "df_clean[df_clean.neighbourhood == \"I Centro Storico\"]"
      ],
      "metadata": {
        "colab": {
          "base_uri": "https://localhost:8080/",
          "height": 974
        },
        "id": "uHqmQoi_IihE",
        "outputId": "5771c7e2-f36d-4964-92f5-42bdb7268385"
      },
      "execution_count": 23,
      "outputs": [
        {
          "output_type": "execute_result",
          "data": {
            "text/plain": [
              "                       id                                               name  \\\n",
              "1                    3079          Cozy apartment  (2-4)with Colisseum  view   \n",
              "2                   11834                   Rome \"Charming Boschetto Studio\"   \n",
              "4                   19965      DI FRONTE AI MUSEI VATICANI 2 CAMERE DA LETTO   \n",
              "5                   19967  A 5 MIN A PIEDI P.ZZA S. PIETRO 2 CAMERE SPAZIOSO   \n",
              "6                   20534         DormiRoma - Cedro 1 Apartment - Trastevere   \n",
              "...                   ...                                                ...   \n",
              "24376  779478748968440660                           Comfort e Pulizia al TOP   \n",
              "24377  779496420970966469                                          singola 1   \n",
              "24378  779552381059690347                     Camera matrimoniale Trastevere   \n",
              "24379  779557620810535438                       apartment 2 levels in center   \n",
              "24380  779638788545551248                       Studio Pantheon Campo Marzio   \n",
              "\n",
              "         host_id host_name     neighbourhood   latitude  longitude  \\\n",
              "1           3504     Laura  I Centro Storico  41.895000  12.491170   \n",
              "2          44552    Serena  I Centro Storico  41.896500  12.492110   \n",
              "4          75450      Sasa  I Centro Storico  41.907300  12.453490   \n",
              "5          75450      Sasa  I Centro Storico  41.908283  12.452617   \n",
              "6          77540   Adriano  I Centro Storico  41.889920  12.468230   \n",
              "...          ...       ...               ...        ...        ...   \n",
              "24376  491012752    Andrea  I Centro Storico  41.912232  12.467885   \n",
              "24377  491012752    Andrea  I Centro Storico  41.912232  12.467885   \n",
              "24378   19444683     Alice  I Centro Storico  41.890398  12.470885   \n",
              "24379  245357731   Mikhail  I Centro Storico  41.906710  12.501616   \n",
              "24380   13012838     Paola  I Centro Storico  41.901176  12.474972   \n",
              "\n",
              "             room_type  price  minimum_nights  number_of_reviews last_review  \\\n",
              "1      Entire home/apt     90              20                 21  2022-04-30   \n",
              "2      Entire home/apt    100               2                173  2022-11-15   \n",
              "4      Entire home/apt     96               3                 95  2022-11-01   \n",
              "5      Entire home/apt     97               3                 41  2022-10-15   \n",
              "6      Entire home/apt    130               3                 52  2022-11-22   \n",
              "...                ...    ...             ...                ...         ...   \n",
              "24376     Private room    127               1                  0         NaN   \n",
              "24377     Private room     76               1                  0         NaN   \n",
              "24378     Private room    100               1                  0         NaN   \n",
              "24379  Entire home/apt    141               1                  0         NaN   \n",
              "24380  Entire home/apt     60               3                  0         NaN   \n",
              "\n",
              "       reviews_per_month  calculated_host_listings_count  availability_365  \\\n",
              "1                   0.14                               5               284   \n",
              "2                   1.22                               1               349   \n",
              "4                   0.71                               9                43   \n",
              "5                   0.37                               9               165   \n",
              "6                   0.35                               5               351   \n",
              "...                  ...                             ...               ...   \n",
              "24376                NaN                               2               365   \n",
              "24377                NaN                               2               356   \n",
              "24378                NaN                               2               320   \n",
              "24379                NaN                               7               359   \n",
              "24380                NaN                              10               265   \n",
              "\n",
              "       number_of_reviews_ltm license  \n",
              "1                          2     NaN  \n",
              "2                         31     NaN  \n",
              "4                         33     NaN  \n",
              "5                          9     NaN  \n",
              "6                          7     NaN  \n",
              "...                      ...     ...  \n",
              "24376                      0     NaN  \n",
              "24377                      0     NaN  \n",
              "24378                      0     NaN  \n",
              "24379                      0   11864  \n",
              "24380                      0     NaN  \n",
              "\n",
              "[13509 rows x 17 columns]"
            ],
            "text/html": [
              "\n",
              "  <div id=\"df-85c6c2b1-fce3-40d2-87e3-2751f747b5da\">\n",
              "    <div class=\"colab-df-container\">\n",
              "      <div>\n",
              "<style scoped>\n",
              "    .dataframe tbody tr th:only-of-type {\n",
              "        vertical-align: middle;\n",
              "    }\n",
              "\n",
              "    .dataframe tbody tr th {\n",
              "        vertical-align: top;\n",
              "    }\n",
              "\n",
              "    .dataframe thead th {\n",
              "        text-align: right;\n",
              "    }\n",
              "</style>\n",
              "<table border=\"1\" class=\"dataframe\">\n",
              "  <thead>\n",
              "    <tr style=\"text-align: right;\">\n",
              "      <th></th>\n",
              "      <th>id</th>\n",
              "      <th>name</th>\n",
              "      <th>host_id</th>\n",
              "      <th>host_name</th>\n",
              "      <th>neighbourhood</th>\n",
              "      <th>latitude</th>\n",
              "      <th>longitude</th>\n",
              "      <th>room_type</th>\n",
              "      <th>price</th>\n",
              "      <th>minimum_nights</th>\n",
              "      <th>number_of_reviews</th>\n",
              "      <th>last_review</th>\n",
              "      <th>reviews_per_month</th>\n",
              "      <th>calculated_host_listings_count</th>\n",
              "      <th>availability_365</th>\n",
              "      <th>number_of_reviews_ltm</th>\n",
              "      <th>license</th>\n",
              "    </tr>\n",
              "  </thead>\n",
              "  <tbody>\n",
              "    <tr>\n",
              "      <th>1</th>\n",
              "      <td>3079</td>\n",
              "      <td>Cozy apartment  (2-4)with Colisseum  view</td>\n",
              "      <td>3504</td>\n",
              "      <td>Laura</td>\n",
              "      <td>I Centro Storico</td>\n",
              "      <td>41.895000</td>\n",
              "      <td>12.491170</td>\n",
              "      <td>Entire home/apt</td>\n",
              "      <td>90</td>\n",
              "      <td>20</td>\n",
              "      <td>21</td>\n",
              "      <td>2022-04-30</td>\n",
              "      <td>0.14</td>\n",
              "      <td>5</td>\n",
              "      <td>284</td>\n",
              "      <td>2</td>\n",
              "      <td>NaN</td>\n",
              "    </tr>\n",
              "    <tr>\n",
              "      <th>2</th>\n",
              "      <td>11834</td>\n",
              "      <td>Rome \"Charming Boschetto Studio\"</td>\n",
              "      <td>44552</td>\n",
              "      <td>Serena</td>\n",
              "      <td>I Centro Storico</td>\n",
              "      <td>41.896500</td>\n",
              "      <td>12.492110</td>\n",
              "      <td>Entire home/apt</td>\n",
              "      <td>100</td>\n",
              "      <td>2</td>\n",
              "      <td>173</td>\n",
              "      <td>2022-11-15</td>\n",
              "      <td>1.22</td>\n",
              "      <td>1</td>\n",
              "      <td>349</td>\n",
              "      <td>31</td>\n",
              "      <td>NaN</td>\n",
              "    </tr>\n",
              "    <tr>\n",
              "      <th>4</th>\n",
              "      <td>19965</td>\n",
              "      <td>DI FRONTE AI MUSEI VATICANI 2 CAMERE DA LETTO</td>\n",
              "      <td>75450</td>\n",
              "      <td>Sasa</td>\n",
              "      <td>I Centro Storico</td>\n",
              "      <td>41.907300</td>\n",
              "      <td>12.453490</td>\n",
              "      <td>Entire home/apt</td>\n",
              "      <td>96</td>\n",
              "      <td>3</td>\n",
              "      <td>95</td>\n",
              "      <td>2022-11-01</td>\n",
              "      <td>0.71</td>\n",
              "      <td>9</td>\n",
              "      <td>43</td>\n",
              "      <td>33</td>\n",
              "      <td>NaN</td>\n",
              "    </tr>\n",
              "    <tr>\n",
              "      <th>5</th>\n",
              "      <td>19967</td>\n",
              "      <td>A 5 MIN A PIEDI P.ZZA S. PIETRO 2 CAMERE SPAZIOSO</td>\n",
              "      <td>75450</td>\n",
              "      <td>Sasa</td>\n",
              "      <td>I Centro Storico</td>\n",
              "      <td>41.908283</td>\n",
              "      <td>12.452617</td>\n",
              "      <td>Entire home/apt</td>\n",
              "      <td>97</td>\n",
              "      <td>3</td>\n",
              "      <td>41</td>\n",
              "      <td>2022-10-15</td>\n",
              "      <td>0.37</td>\n",
              "      <td>9</td>\n",
              "      <td>165</td>\n",
              "      <td>9</td>\n",
              "      <td>NaN</td>\n",
              "    </tr>\n",
              "    <tr>\n",
              "      <th>6</th>\n",
              "      <td>20534</td>\n",
              "      <td>DormiRoma - Cedro 1 Apartment - Trastevere</td>\n",
              "      <td>77540</td>\n",
              "      <td>Adriano</td>\n",
              "      <td>I Centro Storico</td>\n",
              "      <td>41.889920</td>\n",
              "      <td>12.468230</td>\n",
              "      <td>Entire home/apt</td>\n",
              "      <td>130</td>\n",
              "      <td>3</td>\n",
              "      <td>52</td>\n",
              "      <td>2022-11-22</td>\n",
              "      <td>0.35</td>\n",
              "      <td>5</td>\n",
              "      <td>351</td>\n",
              "      <td>7</td>\n",
              "      <td>NaN</td>\n",
              "    </tr>\n",
              "    <tr>\n",
              "      <th>...</th>\n",
              "      <td>...</td>\n",
              "      <td>...</td>\n",
              "      <td>...</td>\n",
              "      <td>...</td>\n",
              "      <td>...</td>\n",
              "      <td>...</td>\n",
              "      <td>...</td>\n",
              "      <td>...</td>\n",
              "      <td>...</td>\n",
              "      <td>...</td>\n",
              "      <td>...</td>\n",
              "      <td>...</td>\n",
              "      <td>...</td>\n",
              "      <td>...</td>\n",
              "      <td>...</td>\n",
              "      <td>...</td>\n",
              "      <td>...</td>\n",
              "    </tr>\n",
              "    <tr>\n",
              "      <th>24376</th>\n",
              "      <td>779478748968440660</td>\n",
              "      <td>Comfort e Pulizia al TOP</td>\n",
              "      <td>491012752</td>\n",
              "      <td>Andrea</td>\n",
              "      <td>I Centro Storico</td>\n",
              "      <td>41.912232</td>\n",
              "      <td>12.467885</td>\n",
              "      <td>Private room</td>\n",
              "      <td>127</td>\n",
              "      <td>1</td>\n",
              "      <td>0</td>\n",
              "      <td>NaN</td>\n",
              "      <td>NaN</td>\n",
              "      <td>2</td>\n",
              "      <td>365</td>\n",
              "      <td>0</td>\n",
              "      <td>NaN</td>\n",
              "    </tr>\n",
              "    <tr>\n",
              "      <th>24377</th>\n",
              "      <td>779496420970966469</td>\n",
              "      <td>singola 1</td>\n",
              "      <td>491012752</td>\n",
              "      <td>Andrea</td>\n",
              "      <td>I Centro Storico</td>\n",
              "      <td>41.912232</td>\n",
              "      <td>12.467885</td>\n",
              "      <td>Private room</td>\n",
              "      <td>76</td>\n",
              "      <td>1</td>\n",
              "      <td>0</td>\n",
              "      <td>NaN</td>\n",
              "      <td>NaN</td>\n",
              "      <td>2</td>\n",
              "      <td>356</td>\n",
              "      <td>0</td>\n",
              "      <td>NaN</td>\n",
              "    </tr>\n",
              "    <tr>\n",
              "      <th>24378</th>\n",
              "      <td>779552381059690347</td>\n",
              "      <td>Camera matrimoniale Trastevere</td>\n",
              "      <td>19444683</td>\n",
              "      <td>Alice</td>\n",
              "      <td>I Centro Storico</td>\n",
              "      <td>41.890398</td>\n",
              "      <td>12.470885</td>\n",
              "      <td>Private room</td>\n",
              "      <td>100</td>\n",
              "      <td>1</td>\n",
              "      <td>0</td>\n",
              "      <td>NaN</td>\n",
              "      <td>NaN</td>\n",
              "      <td>2</td>\n",
              "      <td>320</td>\n",
              "      <td>0</td>\n",
              "      <td>NaN</td>\n",
              "    </tr>\n",
              "    <tr>\n",
              "      <th>24379</th>\n",
              "      <td>779557620810535438</td>\n",
              "      <td>apartment 2 levels in center</td>\n",
              "      <td>245357731</td>\n",
              "      <td>Mikhail</td>\n",
              "      <td>I Centro Storico</td>\n",
              "      <td>41.906710</td>\n",
              "      <td>12.501616</td>\n",
              "      <td>Entire home/apt</td>\n",
              "      <td>141</td>\n",
              "      <td>1</td>\n",
              "      <td>0</td>\n",
              "      <td>NaN</td>\n",
              "      <td>NaN</td>\n",
              "      <td>7</td>\n",
              "      <td>359</td>\n",
              "      <td>0</td>\n",
              "      <td>11864</td>\n",
              "    </tr>\n",
              "    <tr>\n",
              "      <th>24380</th>\n",
              "      <td>779638788545551248</td>\n",
              "      <td>Studio Pantheon Campo Marzio</td>\n",
              "      <td>13012838</td>\n",
              "      <td>Paola</td>\n",
              "      <td>I Centro Storico</td>\n",
              "      <td>41.901176</td>\n",
              "      <td>12.474972</td>\n",
              "      <td>Entire home/apt</td>\n",
              "      <td>60</td>\n",
              "      <td>3</td>\n",
              "      <td>0</td>\n",
              "      <td>NaN</td>\n",
              "      <td>NaN</td>\n",
              "      <td>10</td>\n",
              "      <td>265</td>\n",
              "      <td>0</td>\n",
              "      <td>NaN</td>\n",
              "    </tr>\n",
              "  </tbody>\n",
              "</table>\n",
              "<p>13509 rows × 17 columns</p>\n",
              "</div>\n",
              "      <button class=\"colab-df-convert\" onclick=\"convertToInteractive('df-85c6c2b1-fce3-40d2-87e3-2751f747b5da')\"\n",
              "              title=\"Convert this dataframe to an interactive table.\"\n",
              "              style=\"display:none;\">\n",
              "        \n",
              "  <svg xmlns=\"http://www.w3.org/2000/svg\" height=\"24px\"viewBox=\"0 0 24 24\"\n",
              "       width=\"24px\">\n",
              "    <path d=\"M0 0h24v24H0V0z\" fill=\"none\"/>\n",
              "    <path d=\"M18.56 5.44l.94 2.06.94-2.06 2.06-.94-2.06-.94-.94-2.06-.94 2.06-2.06.94zm-11 1L8.5 8.5l.94-2.06 2.06-.94-2.06-.94L8.5 2.5l-.94 2.06-2.06.94zm10 10l.94 2.06.94-2.06 2.06-.94-2.06-.94-.94-2.06-.94 2.06-2.06.94z\"/><path d=\"M17.41 7.96l-1.37-1.37c-.4-.4-.92-.59-1.43-.59-.52 0-1.04.2-1.43.59L10.3 9.45l-7.72 7.72c-.78.78-.78 2.05 0 2.83L4 21.41c.39.39.9.59 1.41.59.51 0 1.02-.2 1.41-.59l7.78-7.78 2.81-2.81c.8-.78.8-2.07 0-2.86zM5.41 20L4 18.59l7.72-7.72 1.47 1.35L5.41 20z\"/>\n",
              "  </svg>\n",
              "      </button>\n",
              "      \n",
              "  <style>\n",
              "    .colab-df-container {\n",
              "      display:flex;\n",
              "      flex-wrap:wrap;\n",
              "      gap: 12px;\n",
              "    }\n",
              "\n",
              "    .colab-df-convert {\n",
              "      background-color: #E8F0FE;\n",
              "      border: none;\n",
              "      border-radius: 50%;\n",
              "      cursor: pointer;\n",
              "      display: none;\n",
              "      fill: #1967D2;\n",
              "      height: 32px;\n",
              "      padding: 0 0 0 0;\n",
              "      width: 32px;\n",
              "    }\n",
              "\n",
              "    .colab-df-convert:hover {\n",
              "      background-color: #E2EBFA;\n",
              "      box-shadow: 0px 1px 2px rgba(60, 64, 67, 0.3), 0px 1px 3px 1px rgba(60, 64, 67, 0.15);\n",
              "      fill: #174EA6;\n",
              "    }\n",
              "\n",
              "    [theme=dark] .colab-df-convert {\n",
              "      background-color: #3B4455;\n",
              "      fill: #D2E3FC;\n",
              "    }\n",
              "\n",
              "    [theme=dark] .colab-df-convert:hover {\n",
              "      background-color: #434B5C;\n",
              "      box-shadow: 0px 1px 3px 1px rgba(0, 0, 0, 0.15);\n",
              "      filter: drop-shadow(0px 1px 2px rgba(0, 0, 0, 0.3));\n",
              "      fill: #FFFFFF;\n",
              "    }\n",
              "  </style>\n",
              "\n",
              "      <script>\n",
              "        const buttonEl =\n",
              "          document.querySelector('#df-85c6c2b1-fce3-40d2-87e3-2751f747b5da button.colab-df-convert');\n",
              "        buttonEl.style.display =\n",
              "          google.colab.kernel.accessAllowed ? 'block' : 'none';\n",
              "\n",
              "        async function convertToInteractive(key) {\n",
              "          const element = document.querySelector('#df-85c6c2b1-fce3-40d2-87e3-2751f747b5da');\n",
              "          const dataTable =\n",
              "            await google.colab.kernel.invokeFunction('convertToInteractive',\n",
              "                                                     [key], {});\n",
              "          if (!dataTable) return;\n",
              "\n",
              "          const docLinkHtml = 'Like what you see? Visit the ' +\n",
              "            '<a target=\"_blank\" href=https://colab.research.google.com/notebooks/data_table.ipynb>data table notebook</a>'\n",
              "            + ' to learn more about interactive tables.';\n",
              "          element.innerHTML = '';\n",
              "          dataTable['output_type'] = 'display_data';\n",
              "          await google.colab.output.renderOutput(dataTable, element);\n",
              "          const docLink = document.createElement('div');\n",
              "          docLink.innerHTML = docLinkHtml;\n",
              "          element.appendChild(docLink);\n",
              "        }\n",
              "      </script>\n",
              "    </div>\n",
              "  </div>\n",
              "  "
            ]
          },
          "metadata": {},
          "execution_count": 23
        }
      ]
    },
    {
      "cell_type": "markdown",
      "source": [
        "Como são fornecidas as Latitudes e Longitudes para os imóveis, é possível plotar cada ponto. Para isso, considera-se `x=longitude` e `y=latitude`."
      ],
      "metadata": {
        "id": "PchlvHzzIzcZ"
      }
    },
    {
      "cell_type": "code",
      "metadata": {
        "id": "UxVJqJ_3W59I",
        "colab": {
          "base_uri": "https://localhost:8080/",
          "height": 472
        },
        "outputId": "918bf635-7b53-4620-f9be-798aab53a2df"
      },
      "source": [
        "# plotar os imóveis pela latitude-longitude\n",
        "df_clean.plot(kind=\"scatter\", x='longitude', y='latitude', alpha=0.4, c=df_clean['price'], s=8,\n",
        "              cmap=plt.get_cmap('jet'), figsize=(12,8));"
      ],
      "execution_count": 21,
      "outputs": [
        {
          "output_type": "display_data",
          "data": {
            "text/plain": [
              "<Figure size 864x576 with 2 Axes>"
            ],
            "image/png": "[encoded data removed]"
          },
          "metadata": {
            "needs_background": "light"
          }
        }
      ]
    },
    {
      "cell_type": "markdown",
      "metadata": {
        "id": "vTneAMRUYvr1"
      },
      "source": [
        "### **Q10. Qual é a média do mínimo de noites para aluguel (minimum_nights)?**"
      ]
    },
    {
      "cell_type": "markdown",
      "source": [
        "R: aproximadamente 3 noites."
      ],
      "metadata": {
        "id": "7qkKBopGJBJS"
      }
    },
    {
      "cell_type": "code",
      "metadata": {
        "id": "_VzNhrEgY82N",
        "colab": {
          "base_uri": "https://localhost:8080/"
        },
        "outputId": "78a6ccd6-6342-4435-bd7f-bbad55b8dfef"
      },
      "source": [
        "# ver a média da coluna `minimum_nights``\n",
        "df.minimum_nights.mean()"
      ],
      "execution_count": 24,
      "outputs": [
        {
          "output_type": "execute_result",
          "data": {
            "text/plain": [
              "3.534142640364188"
            ]
          },
          "metadata": {},
          "execution_count": 24
        }
      ]
    },
    {
      "cell_type": "markdown",
      "metadata": {
        "id": "GkvAg623RjoR"
      },
      "source": [
        "## Conclusões\n"
      ]
    },
    {
      "cell_type": "markdown",
      "metadata": {
        "id": "rbZ3Hsy9Ypw8"
      },
      "source": [
        "\n",
        "Foi feita apenas uma análise superficial na base de dados do Airbnb, porém já se percebeu que existem *outliers* em algumas das variáveis. \n",
        "\n",
        "Também se notou que em algumas localidades há poucos imóveis disponíveis, o que pode distorcer as informações estatísticas de alguns atributos.\n",
        "\n",
        "Por fim, lembra-se que este *dataset* é uma versão resumida, ideal apenas para uma abordagem inicial. Recomenda-se que seja usado, em uma próxima análise exploratória, o conjunto de dados completos, com 106 atributos disponíveis."
      ]
    }
  ]
}